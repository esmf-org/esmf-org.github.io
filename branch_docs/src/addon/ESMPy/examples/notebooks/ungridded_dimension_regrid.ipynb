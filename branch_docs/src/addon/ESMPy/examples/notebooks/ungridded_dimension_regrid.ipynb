{
 "cells": [
  {
   "cell_type": "markdown",
   "metadata": {},
   "source": [
    "# ESMPy regridding with Fields containing ungridded dimensions"
   ]
  },
  {
   "cell_type": "markdown",
   "metadata": {},
   "source": []
  },
  {
   "cell_type": "markdown",
   "metadata": {},
   "source": [
    "This example demonstrates how to regrid a field with extra dimensions, such as time and vertical layers."
   ]
  },
  {
   "cell_type": "code",
   "execution_count": 1,
   "metadata": {},
   "outputs": [],
   "source": [
    "# conda create -n esmpy-ugrid-example -c ioos esmpy matplotlib krb5 jupyter netCDF4\n",
    "# source activate esmpy-ugrid-example\n",
    "# jupyter notebook"
   ]
  },
  {
   "cell_type": "code",
   "execution_count": 2,
   "metadata": {},
   "outputs": [],
   "source": [
    "import ESMF\n",
    "import numpy"
   ]
  },
  {
   "cell_type": "markdown",
   "metadata": {},
   "source": [
    "Download data files using ESMPy utilities, if they are not downloaded already."
   ]
  },
  {
   "cell_type": "code",
   "execution_count": 3,
   "metadata": {},
   "outputs": [
    {
     "name": "stdout",
     "output_type": "stream",
     "text": [
      "Done.\n"
     ]
    }
   ],
   "source": [
    "import os\n",
    "DD = os.path.join(os.getcwd(), \"ESMPy-data\")\n",
    "if not os.path.isdir(DD):\n",
    "    os.makedirs(DD)\n",
    "from ESMF.util.cache_data import cache_data_file\n",
    "cache_data_file(os.path.join(DD, \"ll2.5deg_grid.nc\"))\n",
    "cache_data_file(os.path.join(DD, \"T42_grid.nc\"))\n",
    "print('Done.')"
   ]
  },
  {
   "cell_type": "markdown",
   "metadata": {},
   "source": [
    "Set the number of elements in the extra field dimensions"
   ]
  },
  {
   "cell_type": "code",
   "execution_count": 4,
   "metadata": {},
   "outputs": [],
   "source": [
    "levels = 2\n",
    "time = 5"
   ]
  },
  {
   "cell_type": "markdown",
   "metadata": {},
   "source": [
    "Create two uniform global latlon grids from a SCRIP formatted files"
   ]
  },
  {
   "cell_type": "code",
   "execution_count": 5,
   "metadata": {},
   "outputs": [],
   "source": [
    "srcgrid = ESMF.Grid(filename=\"ESMPy-data/ll2.5deg_grid.nc\", \n",
    "                    filetype=ESMF.FileFormat.SCRIP,\n",
    "                    add_corner_stagger=True)\n",
    "dstgrid = ESMF.Grid(filename=\"ESMPy-data/T42_grid.nc\", \n",
    "                    filetype=ESMF.FileFormat.SCRIP,\n",
    "                    add_corner_stagger=True)"
   ]
  },
  {
   "cell_type": "markdown",
   "metadata": {},
   "source": [
    "Create Fields on the center stagger locations of the Grids, specifying that they will have ungridded dimensions using the 'ndbounds' argument"
   ]
  },
  {
   "cell_type": "code",
   "execution_count": 6,
   "metadata": {},
   "outputs": [],
   "source": [
    "srcfield = ESMF.Field(srcgrid, name='srcfield',\n",
    "                      staggerloc=ESMF.StaggerLoc.CENTER,\n",
    "                      ndbounds=[levels, time])\n",
    "dstfield = ESMF.Field(dstgrid, name='dstfield',\n",
    "                      staggerloc=ESMF.StaggerLoc.CENTER,\n",
    "                      ndbounds=[levels, time])\n",
    "xctfield = ESMF.Field(dstgrid, name='xctfield',\n",
    "                      staggerloc=ESMF.StaggerLoc.CENTER,\n",
    "                      ndbounds=[levels, time])"
   ]
  },
  {
   "cell_type": "markdown",
   "metadata": {},
   "source": [
    "Get the coordinates of the source Grid and initialize the source Field"
   ]
  },
  {
   "cell_type": "code",
   "execution_count": 7,
   "metadata": {},
   "outputs": [],
   "source": [
    "[lon,lat] = [0, 1]\n",
    "gridXCoord = srcfield.grid.get_coords(lon, ESMF.StaggerLoc.CENTER)\n",
    "gridYCoord = srcfield.grid.get_coords(lat, ESMF.StaggerLoc.CENTER)\n",
    "\n",
    "deg2rad = 3.14159/180\n",
    "\n",
    "for timestep in range(time):\n",
    "    for level in range(levels):\n",
    "        srcfield.data[level,timestep,:,:]=10.0*(level+timestep+1) + \\\n",
    "                                          (gridXCoord*deg2rad)**2 + \\\n",
    "                                          (gridXCoord*deg2rad)*\\\n",
    "                                          (gridYCoord*deg2rad) + \\\n",
    "                                          (gridYCoord*deg2rad)**2"
   ]
  },
  {
   "cell_type": "markdown",
   "metadata": {},
   "source": [
    "Get the coordinates of the destination Grid and initialize the exact solution and destination Field"
   ]
  },
  {
   "cell_type": "code",
   "execution_count": 8,
   "metadata": {},
   "outputs": [],
   "source": [
    "gridXCoord = xctfield.grid.get_coords(lon, ESMF.StaggerLoc.CENTER)\n",
    "gridYCoord = xctfield.grid.get_coords(lat, ESMF.StaggerLoc.CENTER)\n",
    "\n",
    "for timestep in range(time):\n",
    "    for level in range(levels):\n",
    "        xctfield.data[level,timestep,:,:]=10.0*(level+timestep+1) + \\\n",
    "                                          (gridXCoord*deg2rad)**2 + \\\n",
    "                                          (gridXCoord*deg2rad)*\\\n",
    "                                          (gridYCoord*deg2rad) + \\\n",
    "                                          (gridYCoord*deg2rad)**2\n",
    "\n",
    "dstfield.data[...] = 1e20"
   ]
  },
  {
   "cell_type": "markdown",
   "metadata": {},
   "source": [
    "Create an object to regrid data from the source to the destination Field"
   ]
  },
  {
   "cell_type": "code",
   "execution_count": 9,
   "metadata": {},
   "outputs": [],
   "source": [
    "regrid = ESMF.Regrid(srcfield, dstfield,\n",
    "                     regrid_method=ESMF.RegridMethod.CONSERVE,\n",
    "                     unmapped_action=ESMF.UnmappedAction.ERROR)"
   ]
  },
  {
   "cell_type": "markdown",
   "metadata": {},
   "source": [
    "Call the regridding operator on this Field pair"
   ]
  },
  {
   "cell_type": "code",
   "execution_count": 10,
   "metadata": {},
   "outputs": [],
   "source": [
    "dstfield = regrid(srcfield, dstfield)"
   ]
  },
  {
   "cell_type": "markdown",
   "metadata": {},
   "source": [
    "Display regridding results"
   ]
  },
  {
   "cell_type": "code",
   "execution_count": 11,
   "metadata": {},
   "outputs": [
    {
     "data": {
      "image/png": "[encoded data removed]"
     },
     "output_type": "display_data",
     "metadata": {}
    }
   ],
   "source": [
    "import matplotlib.pyplot as plt\n",
    "from matplotlib import animation\n",
    "%matplotlib inline\n",
    "\n",
    "lons = dstfield.grid.get_coords(0)\n",
    "lats = dstfield.grid.get_coords(1)\n",
    "\n",
    "fig = plt.figure()\n",
    "ax = plt.axes(xlim=(numpy.min(lons), numpy.max(lons)),\n",
    "              ylim=(numpy.min(lats), numpy.max(lats)))\n",
    "ax.set_xlabel(\"Longitude\")\n",
    "ax.set_ylabel(\"Latitude\")\n",
    "ax.set_title(\"Regrid Solution\")\n",
    "\n",
    "def animate(i):\n",
    "    z = dstfield.data[0,i,:,:]\n",
    "    cont = plt.contourf(lons, lats, z)\n",
    "    return cont\n",
    "\n",
    "anim = animation.FuncAnimation(fig, animate, frames=time)\n",
    "\n",
    "anim.save('ESMPyRegrid.mp4')\n",
    "\n",
    "plt.show()"
   ]
  }
 ],
 "metadata": {
  "kernelspec": {
   "display_name": "Python 2",
   "language": "python",
   "name": "python2"
  },
  "language_info": {
   "codemirror_mode": {
    "name": "ipython",
    "version": 2.0
   },
   "file_extension": ".py",
   "mimetype": "text/x-python",
   "name": "python",
   "nbconvert_exporter": "python",
   "pygments_lexer": "ipython2",
   "version": "2.7.11"
  }
 },
 "nbformat": 4,
 "nbformat_minor": 0
}